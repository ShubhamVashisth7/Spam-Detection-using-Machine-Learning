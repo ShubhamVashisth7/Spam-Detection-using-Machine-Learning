{
 "cells": [
  {
   "cell_type": "code",
   "execution_count": 1,
   "metadata": {},
   "outputs": [],
   "source": [
    "import os\n",
    "from tkinter import *\n",
    "from tkinter import messagebox as ms\n",
    "filename=\"newfile1.tsv\"\n",
    "def action():\n",
    "    ms.showinfo(title=\"Success\",message=\"Data updated!\")\n",
    "def spam():\n",
    "    status=\"spam\"\n",
    "    message=str(mtc.get())\n",
    "    f=open(filename,\"a\")\n",
    "    f.write(status+\"\\t\"+message+\"\\n\")  \n",
    "    f.close()\n",
    "def ham():\n",
    "    status=\"ham\"\n",
    "    message=str(mtc.get())\n",
    "    f=open(filename,\"a\")\n",
    "    f.write(status+\"\\t\"+message+\"\\n\") \n",
    "    f.close()\n",
    "root=Tk()\n",
    "root.title(\"Receiving your data\")\n",
    "root.geometry(\"600x500+190+20\")\n",
    "root.configure(background=\"black\")\n",
    "mtc=StringVar()\n",
    "heading=Label(root,text=\"SPAM DETECTION\",font=(\"vardana\",20,\"bold\"), fg=\"white\",bg=\"black\").place(x=180,y=40)\n",
    "l1=Label(root,text=\"Enter your mail :\",font=(\"calibri\",12,\"bold\"),fg=\"red\",bg=\"black\").place(x=240,y=120)\n",
    "t1=Entry(root,textvariable=mtc,width=96,bg=\"red\").place(x=9,y=160)\n",
    "l2=Label(root,text=\"Choose target class :\",font=(\"calibri\",12,\"bold\"),fg=\"red\",bg=\"black\").place(x=230,y=230)\n",
    "r1=Radiobutton(root,text=\"Spam\",bg=\"black\",fg=\"red\",font=(\"calibri\",12,\"bold\"),value=1,command=spam).place(x=120,y=259)\n",
    "r2=Radiobutton(root,text=\"Ham\",bg=\"black\",fg=\"red\",font=(\"calibri\",12,\"bold\"),value=2,command=ham).place(x=410,y=259)\n",
    "b=Button(root,text=\"Submit Record\",bg=\"red\",command=action).place(x=255,y=330)\n",
    "root.mainloop() \n"
   ]
  },
  {
   "cell_type": "code",
   "execution_count": 2,
   "metadata": {},
   "outputs": [],
   "source": [
    "import pandas as pd\n",
    "data=pd.read_csv('data/sms.tsv',header=None,delimiter=\"\\t\",names=[\"TARGET\",\"MESSAGE\"])\n",
    "data1=pd.read_csv(filename,header=None,delimiter=\"\\t\",names=[\"TARGET\",\"MESSAGE\"])"
   ]
  },
  {
   "cell_type": "code",
   "execution_count": 3,
   "metadata": {},
   "outputs": [
    {
     "data": {
      "text/plain": [
       "<Figure size 640x480 with 1 Axes>"
      ]
     },
     "metadata": {},
     "output_type": "display_data"
    },
    {
     "name": "stdout",
     "output_type": "stream",
     "text": [
      "ham     4827\n",
      "spam     754\n",
      "Name: TARGET, dtype: int64\n",
      "------------------------------------------------------\n"
     ]
    },
    {
     "data": {
      "text/plain": [
       "<Figure size 640x480 with 1 Axes>"
      ]
     },
     "metadata": {},
     "output_type": "display_data"
    },
    {
     "name": "stdout",
     "output_type": "stream",
     "text": [
      "spam    1\n",
      "Name: TARGET, dtype: int64\n"
     ]
    }
   ],
   "source": [
    "import matplotlib.pyplot as plt\n",
    "data.TARGET.value_counts().plot(kind=\"bar\")\n",
    "plt.title(\"Spam data collected\")\n",
    "plt.show()\n",
    "print(data.TARGET.value_counts())\n",
    "print(\"------------------------------------------------------\")\n",
    "data1.TARGET.value_counts().plot(kind=\"bar\")\n",
    "plt.title(\"Data fetched from the user\")\n",
    "plt.show()\n",
    "print(data1.TARGET.value_counts())"
   ]
  },
  {
   "cell_type": "code",
   "execution_count": 4,
   "metadata": {},
   "outputs": [],
   "source": [
    "data[\"TARGET\"]=data[\"TARGET\"].map({\"spam\":1,\"ham\":0})\n",
    "data1[\"TARGET\"]=data1[\"TARGET\"].map({\"spam\":1,\"ham\":0})"
   ]
  },
  {
   "cell_type": "code",
   "execution_count": 5,
   "metadata": {},
   "outputs": [
    {
     "data": {
      "text/html": [
       "<div>\n",
       "<style scoped>\n",
       "    .dataframe tbody tr th:only-of-type {\n",
       "        vertical-align: middle;\n",
       "    }\n",
       "\n",
       "    .dataframe tbody tr th {\n",
       "        vertical-align: top;\n",
       "    }\n",
       "\n",
       "    .dataframe thead th {\n",
       "        text-align: right;\n",
       "    }\n",
       "</style>\n",
       "<table border=\"1\" class=\"dataframe\">\n",
       "  <thead>\n",
       "    <tr style=\"text-align: right;\">\n",
       "      <th></th>\n",
       "      <th>TARGET</th>\n",
       "      <th>MESSAGE</th>\n",
       "    </tr>\n",
       "  </thead>\n",
       "  <tbody>\n",
       "    <tr>\n",
       "      <th>0</th>\n",
       "      <td>1</td>\n",
       "      <td>congratulations</td>\n",
       "    </tr>\n",
       "  </tbody>\n",
       "</table>\n",
       "</div>"
      ],
      "text/plain": [
       "   TARGET          MESSAGE\n",
       "0       1  congratulations"
      ]
     },
     "execution_count": 5,
     "metadata": {},
     "output_type": "execute_result"
    }
   ],
   "source": [
    "data1"
   ]
  },
  {
   "cell_type": "code",
   "execution_count": 6,
   "metadata": {},
   "outputs": [],
   "source": [
    "x=data.MESSAGE\n",
    "y=data.TARGET\n",
    "x1=data1.MESSAGE\n",
    "y1=data1.TARGET"
   ]
  },
  {
   "cell_type": "code",
   "execution_count": 7,
   "metadata": {},
   "outputs": [],
   "source": [
    "from sklearn.feature_extraction.text import CountVectorizer\n",
    "c=CountVectorizer(stop_words=\"english\")\n",
    "c1=CountVectorizer(stop_words=\"english\")\n",
    "x_new=c.fit_transform(x)\n",
    "x1_new=c1.fit_transform(x1)"
   ]
  },
  {
   "cell_type": "code",
   "execution_count": 8,
   "metadata": {},
   "outputs": [],
   "source": [
    "import numpy as np\n",
    "from sklearn.pipeline import make_pipeline\n",
    "from sklearn.naive_bayes import MultinomialNB\n",
    "from sklearn.linear_model import LogisticRegression"
   ]
  },
  {
   "cell_type": "code",
   "execution_count": 9,
   "metadata": {},
   "outputs": [],
   "source": [
    "x_train=x\n",
    "x_test=x1\n",
    "y_train=y\n",
    "y_test=y1"
   ]
  },
  {
   "cell_type": "code",
   "execution_count": 10,
   "metadata": {},
   "outputs": [],
   "source": [
    "pipe1=make_pipeline(CountVectorizer(),MultinomialNB())\n",
    "pipe2=make_pipeline(CountVectorizer(),LogisticRegression())"
   ]
  },
  {
   "cell_type": "code",
   "execution_count": 11,
   "metadata": {},
   "outputs": [
    {
     "data": {
      "text/plain": [
       "Pipeline(memory=None,\n",
       "     steps=[('countvectorizer', CountVectorizer(analyzer='word', binary=False, decode_error='strict',\n",
       "        dtype=<class 'numpy.int64'>, encoding='utf-8', input='content',\n",
       "        lowercase=True, max_df=1.0, max_features=None, min_df=1,\n",
       "        ngram_range=(1, 1), preprocessor=None, stop_words=None,\n",
       "  ...ty='l2', random_state=None, solver='liblinear', tol=0.0001,\n",
       "          verbose=0, warm_start=False))])"
      ]
     },
     "execution_count": 11,
     "metadata": {},
     "output_type": "execute_result"
    }
   ],
   "source": [
    "pipe1.fit(x_train,y_train)\n",
    "pipe2.fit(x_train,y_train)"
   ]
  },
  {
   "cell_type": "code",
   "execution_count": 12,
   "metadata": {},
   "outputs": [],
   "source": [
    "pred1=pipe1.predict(x_test)\n",
    "pred2=pipe2.predict(x_test)"
   ]
  },
  {
   "cell_type": "code",
   "execution_count": 13,
   "metadata": {},
   "outputs": [],
   "source": [
    "fwrite=open(\"naiveBayes.tsv\",\"w\")\n",
    "for i in range(0,len(x1)):\n",
    "#first for Naive bias, i.e pipe1\n",
    "    s=str(x1[i])\n",
    "    if pred1[i]==0:\n",
    "        fwrite.write(\"ham\"+\"\\t\"+s+\"\\n\")\n",
    "    else:\n",
    "        fwrite.write(\"spam\"+\"\\t\"+s+\"\\n\")\n",
    "fwrite.close()\n",
    "fwrite=open(\"logisticRegression.tsv\",\"w\")\n",
    "for i in range(0,len(x1)):\n",
    "#first for Logistic Regression, i.e pipe2\n",
    "    s=str(x1[i])\n",
    "    if pred2[i]==0:\n",
    "        fwrite.write(\"ham\"+\"\\t\"+s+\"\\n\")\n",
    "    else:\n",
    "        fwrite.write(\"spam\"+\"\\t\"+s+\"\\n\")\n",
    "fwrite.close()"
   ]
  },
  {
   "cell_type": "code",
   "execution_count": 14,
   "metadata": {
    "scrolled": true
   },
   "outputs": [
    {
     "name": "stdout",
     "output_type": "stream",
     "text": [
      "-------------------THE ACTUAL DATA-----------------\n",
      "\n"
     ]
    },
    {
     "data": {
      "text/html": [
       "<div>\n",
       "<style scoped>\n",
       "    .dataframe tbody tr th:only-of-type {\n",
       "        vertical-align: middle;\n",
       "    }\n",
       "\n",
       "    .dataframe tbody tr th {\n",
       "        vertical-align: top;\n",
       "    }\n",
       "\n",
       "    .dataframe thead th {\n",
       "        text-align: right;\n",
       "    }\n",
       "</style>\n",
       "<table border=\"1\" class=\"dataframe\">\n",
       "  <thead>\n",
       "    <tr style=\"text-align: right;\">\n",
       "      <th></th>\n",
       "      <th>TARGET</th>\n",
       "      <th>MESSAGE</th>\n",
       "    </tr>\n",
       "  </thead>\n",
       "  <tbody>\n",
       "    <tr>\n",
       "      <th>0</th>\n",
       "      <td>spam</td>\n",
       "      <td>congratulations</td>\n",
       "    </tr>\n",
       "  </tbody>\n",
       "</table>\n",
       "</div>"
      ],
      "text/plain": [
       "  TARGET          MESSAGE\n",
       "0   spam  congratulations"
      ]
     },
     "execution_count": 14,
     "metadata": {},
     "output_type": "execute_result"
    }
   ],
   "source": [
    "print(\"-------------------THE ACTUAL DATA-----------------\\n\")\n",
    "dispOriginal=pd.read_csv(filename,header=None,delimiter=\"\\t\",names=[\"TARGET\",\"MESSAGE\"])\n",
    "dispOriginal"
   ]
  },
  {
   "cell_type": "code",
   "execution_count": 15,
   "metadata": {},
   "outputs": [
    {
     "name": "stdout",
     "output_type": "stream",
     "text": [
      "-----------------THE PREDICTED DATA---------------\n",
      "\n",
      "1. For Naive Bayes :-\n"
     ]
    },
    {
     "data": {
      "text/html": [
       "<div>\n",
       "<style scoped>\n",
       "    .dataframe tbody tr th:only-of-type {\n",
       "        vertical-align: middle;\n",
       "    }\n",
       "\n",
       "    .dataframe tbody tr th {\n",
       "        vertical-align: top;\n",
       "    }\n",
       "\n",
       "    .dataframe thead th {\n",
       "        text-align: right;\n",
       "    }\n",
       "</style>\n",
       "<table border=\"1\" class=\"dataframe\">\n",
       "  <thead>\n",
       "    <tr style=\"text-align: right;\">\n",
       "      <th></th>\n",
       "      <th>TARGET</th>\n",
       "      <th>MESSAGE</th>\n",
       "    </tr>\n",
       "  </thead>\n",
       "  <tbody>\n",
       "    <tr>\n",
       "      <th>0</th>\n",
       "      <td>spam</td>\n",
       "      <td>congratulations</td>\n",
       "    </tr>\n",
       "  </tbody>\n",
       "</table>\n",
       "</div>"
      ],
      "text/plain": [
       "  TARGET          MESSAGE\n",
       "0   spam  congratulations"
      ]
     },
     "execution_count": 15,
     "metadata": {},
     "output_type": "execute_result"
    }
   ],
   "source": [
    "print(\"-----------------THE PREDICTED DATA---------------\\n\")\n",
    "print(\"1. For Naive Bayes :-\")\n",
    "dispPrediction1=pd.read_csv(\"naiveBayes.tsv\",header=None,delimiter=\"\\t\",names=[\"TARGET\",\"MESSAGE\"])\n",
    "dispPrediction1"
   ]
  },
  {
   "cell_type": "code",
   "execution_count": 16,
   "metadata": {},
   "outputs": [
    {
     "name": "stdout",
     "output_type": "stream",
     "text": [
      "-----------------THE PREDICTED DATA---------------\n",
      "\n",
      "2. For Logistic Regression :-\n"
     ]
    },
    {
     "data": {
      "text/html": [
       "<div>\n",
       "<style scoped>\n",
       "    .dataframe tbody tr th:only-of-type {\n",
       "        vertical-align: middle;\n",
       "    }\n",
       "\n",
       "    .dataframe tbody tr th {\n",
       "        vertical-align: top;\n",
       "    }\n",
       "\n",
       "    .dataframe thead th {\n",
       "        text-align: right;\n",
       "    }\n",
       "</style>\n",
       "<table border=\"1\" class=\"dataframe\">\n",
       "  <thead>\n",
       "    <tr style=\"text-align: right;\">\n",
       "      <th></th>\n",
       "      <th>TARGET</th>\n",
       "      <th>MESSAGE</th>\n",
       "    </tr>\n",
       "  </thead>\n",
       "  <tbody>\n",
       "    <tr>\n",
       "      <th>0</th>\n",
       "      <td>ham</td>\n",
       "      <td>congratulations</td>\n",
       "    </tr>\n",
       "  </tbody>\n",
       "</table>\n",
       "</div>"
      ],
      "text/plain": [
       "  TARGET          MESSAGE\n",
       "0    ham  congratulations"
      ]
     },
     "execution_count": 16,
     "metadata": {},
     "output_type": "execute_result"
    }
   ],
   "source": [
    "print(\"-----------------THE PREDICTED DATA---------------\\n\")\n",
    "print(\"2. For Logistic Regression :-\")\n",
    "dispPrediction2=pd.read_csv(\"logisticRegression.tsv\",header=None,delimiter=\"\\t\",names=[\"TARGET\",\"MESSAGE\"])\n",
    "dispPrediction2"
   ]
  },
  {
   "cell_type": "code",
   "execution_count": 17,
   "metadata": {},
   "outputs": [],
   "source": [
    "from sklearn.metrics import accuracy_score\n",
    "r1=(accuracy_score(y_test,pred1))*100\n",
    "r2=(accuracy_score(y_test,pred2))*100\n",
    "s=\"Score for Naive bayes = \"+str(r1)+\"%\"+\"\\nScore for Logistic Regression = \"+str(r2)+\"%\"\n",
    "ms.showinfo(title=\"Predicted Data\",message=s)\n",
    "\n",
    "root.mainloop()"
   ]
  },
  {
   "cell_type": "code",
   "execution_count": 18,
   "metadata": {},
   "outputs": [],
   "source": [
    "a=[]\n",
    "y_test=np.array(y_test)\n",
    "for i in range(0,len(y_test)):\n",
    "    if(y_test[i]!=pred1[i]):\n",
    "        a.append(i)\n",
    "\n",
    "if len(a)==0:\n",
    "    ms.showinfo(title=\"Prediction by Naive Bayes\",message=\"No wrong predcition found\")\n",
    "    root.mainloop()\n",
    "else:\n",
    "    for i in range(0,len(a)):\n",
    "        var=\"Message you entered at '\"+str(a[i]+1)+\"' position was missclassified\\nThe Message was = '\"+str(x1[a[i]])+\"'\"\n",
    "        ms.showinfo(title=\"Prediction by Naive Bayes\",message=var)\n",
    "        root.mainloop()"
   ]
  },
  {
   "cell_type": "code",
   "execution_count": 19,
   "metadata": {},
   "outputs": [],
   "source": [
    "b=[]\n",
    "for i in range(0,len(y_test)):\n",
    "    if(y_test[i]!=pred2[i]):\n",
    "        b.append(i)      \n",
    "if len(b)==0:\n",
    "    ms.showinfo(title=\"Prediction by Logisitic Regression\",message=\"No wrong predcition found\")\n",
    "    root.mainloop()\n",
    "else:\n",
    "    for i in range(0,len(b)):\n",
    "        var=\"Message you entered at '\"+str(b[i]+1)+\"' position was missclassified\\nThe Message was = '\"+str(x1[b[i]])+\"'\"\n",
    "        ms.showinfo(title=\"Prediction by Logisitic Regression\",message=var)\n",
    "        root.mainloop()\n",
    "        \n"
   ]
  },
  {
   "cell_type": "code",
   "execution_count": null,
   "metadata": {},
   "outputs": [],
   "source": [
    "print(b)"
   ]
  },
  {
   "cell_type": "code",
   "execution_count": null,
   "metadata": {},
   "outputs": [],
   "source": []
  }
 ],
 "metadata": {
  "kernelspec": {
   "display_name": "Python 3",
   "language": "python",
   "name": "python3"
  },
  "language_info": {
   "codemirror_mode": {
    "name": "ipython",
    "version": 3
   },
   "file_extension": ".py",
   "mimetype": "text/x-python",
   "name": "python",
   "nbconvert_exporter": "python",
   "pygments_lexer": "ipython3",
   "version": "3.6.5"
  }
 },
 "nbformat": 4,
 "nbformat_minor": 2
}
